{
 "cells": [
  {
   "cell_type": "code",
   "execution_count": 2,
   "metadata": {},
   "outputs": [],
   "source": [
    "import json"
   ]
  },
  {
   "cell_type": "code",
   "execution_count": 3,
   "metadata": {},
   "outputs": [],
   "source": [
    "data = json.load(open('data/raw/sort_me_round_solutions.json', 'r'))"
   ]
  },
  {
   "cell_type": "code",
   "execution_count": 8,
   "metadata": {},
   "outputs": [],
   "source": [
    "data_new = []\n",
    "\n",
    "\n",
    "for task in data:\n",
    "    task_new = {}\n",
    "    task_new['task_id'] = task['task_id']\n",
    "    description = task['maindescription']['ru'] + task['indescription']['ru'] + task['outdescription']['ru']\n",
    "    task_new['description'] = description\n",
    "    solutions = []\n",
    "    found_right = False\n",
    "    for solution in task['submissions']:\n",
    "        if solution['lang'] == 'python':\n",
    "            if solution['verdict'] != 'Accepted':\n",
    "                solutions.append({'code': solution['code'], 'verdict':solution['verdict']})\n",
    "            elif not found_right:\n",
    "                task_new['right_solution'] = solution['code']\n",
    "            found_right = True\n",
    "    task_new['solutions'] = solutions\n",
    "    data_new.append(task_new)"
   ]
  },
  {
   "cell_type": "code",
   "execution_count": 9,
   "metadata": {},
   "outputs": [],
   "source": [
    "json.dump(data_new, open('data/processed/sort_me_round_solutions_new.json', 'w'))"
   ]
  }
 ],
 "metadata": {
  "kernelspec": {
   "display_name": "langchain",
   "language": "python",
   "name": "python3"
  },
  "language_info": {
   "codemirror_mode": {
    "name": "ipython",
    "version": 3
   },
   "file_extension": ".py",
   "mimetype": "text/x-python",
   "name": "python",
   "nbconvert_exporter": "python",
   "pygments_lexer": "ipython3",
   "version": "3.9.16"
  }
 },
 "nbformat": 4,
 "nbformat_minor": 2
}
