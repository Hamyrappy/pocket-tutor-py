{
  "cells": [
    {
      "cell_type": "markdown",
      "metadata": {},
      "source": [
        "# Файнтюнинг QWEN на ответы llama405B на решения c SortMe\n",
        "Код переписан для запуска на колабовском TPU. Будьте осторожны, оно меняет установленные пакеты. Впрочем, оно и так работает пипец долго"
      ]
    },
    {
      "cell_type": "markdown",
      "metadata": {},
      "source": [
        "## Установка и удаление"
      ]
    },
    {
      "cell_type": "code",
      "execution_count": null,
      "metadata": {
        "colab": {
          "base_uri": "https://localhost:8080/"
        },
        "id": "Yw7QEpAGyArp",
        "outputId": "8aa29187-739a-4a09-e268-68f9bc6e2a5c"
      },
      "outputs": [],
      "source": [
        "!pip uninstall torch-xla"
      ]
    },
    {
      "cell_type": "code",
      "execution_count": null,
      "metadata": {
        "colab": {
          "base_uri": "https://localhost:8080/"
        },
        "id": "FEza0iT1uKxB",
        "outputId": "055d73e8-5d11-400e-e458-7fe919839344"
      },
      "outputs": [],
      "source": [
        "!pip install datasets"
      ]
    },
    {
      "cell_type": "code",
      "execution_count": null,
      "metadata": {
        "id": "9S-0OoGNKNyb"
      },
      "outputs": [],
      "source": [
        "import pandas as pd\n",
        "import os\n",
        "from transformers import DistilBertTokenizerFast\n",
        "from transformers import Trainer, TrainingArguments\n",
        "import json\n",
        "from pathlib import Path"
      ]
    },
    {
      "cell_type": "markdown",
      "metadata": {
        "id": "gGKZYDF6KNyc"
      },
      "source": [
        "## Загрузка и тест модели"
      ]
    },
    {
      "cell_type": "code",
      "execution_count": null,
      "metadata": {
        "colab": {
          "base_uri": "https://localhost:8080/",
          "height": 190,
          "referenced_widgets": [
            "8301663ca4904ec89ce5579fda39e098",
            "a608a1939cfd4ea1a701867c8e9d9b58",
            "defd1791193b46418fedcc82219b6580",
            "d4a00d780b4149a9bd7eb335be335fa5",
            "b360209685094e8a95695fbc725b37c4",
            "0c639073551b411cbfafc896057a6bec",
            "e0060338cd304d068efea8d1c53e37f6",
            "b16dd579db144f5ca86ff15a11b48099",
            "55ac8752d6e2402a882ac40744657bab",
            "2c63bbc4725842eb96b238b87c48860c",
            "8dcba8c36636457e936273541cb41a3f"
          ]
        },
        "id": "POfQHuDYKNyd",
        "outputId": "785559b6-23a0-429e-c8a5-59136e57c3d5"
      },
      "outputs": [],
      "source": [
        "from transformers import AutoModelForCausalLM, AutoTokenizer\n",
        "model_name = \"Qwen/Qwen2.5-Coder-7B-Instruct\"\n",
        "model = AutoModelForCausalLM.from_pretrained(\n",
        "    model_name,\n",
        "    torch_dtype=\"auto\",\n",
        "    device_map=\"auto\"\n",
        ")\n",
        "model.device"
      ]
    },
    {
      "cell_type": "code",
      "execution_count": null,
      "metadata": {
        "id": "JQTYLQKlKNye"
      },
      "outputs": [],
      "source": [
        "tokenizer = AutoTokenizer.from_pretrained(model_name)"
      ]
    },
    {
      "cell_type": "code",
      "execution_count": null,
      "metadata": {
        "colab": {
          "base_uri": "https://localhost:8080/",
          "height": 227
        },
        "id": "82IVkySaKNye",
        "outputId": "1ec3640c-b54f-4248-f6d4-53888c57132d"
      },
      "outputs": [],
      "source": [
        "'''\n",
        "\n",
        "\n",
        "prompt = \"\"\"ЗАДАЧА\n",
        "Напиши программу, которая выводит \"Hello, World!\"\n",
        "НЕПРАВИЛЬНОЕ РЕШЕНИЕ\n",
        "pront('Hello, World!')\n",
        "ПРАВИЛЬНОЕ РЕШЕНИЕ\n",
        "print('Hello, World!)\n",
        "В ответе укажи исправления, которые необходимо внести.\n",
        "Будь сух, уверен и немногословен, старайся уместить ответ в одно-два предложения, чем короче, тем лучше. Не используй слово \"ученик\"\n",
        "НИ ЗА ЧТО НЕ ВЫДАВАЙ ПРАВИЛЬНЫЙ ВАРИАНТ ОТВЕТА, ТОЛЬКО НАМЕКАЙ.\n",
        "\"\"\"\n",
        "messages = [\n",
        "    {\"role\": \"system\", \"content\":\n",
        "     \"\"\"Ты - учитель по программированию на PYTHON. Твоя цель - анализировать неправильные решения задач, и указывать исправления, которые необходимо внести. Задачи требуют решения на python, однако ученики могут по ошибке отправить решение на другом языке программирования.\n",
        "     В каждом запросе будет приведено УСЛОВИЕ ЗАДАЧИ, НЕПРАВИЛЬНОЕ РЕШЕНИЕ и образец ПРАВИЛЬНОГО РЕШЕНИЯ.\n",
        "     НИ ЗА ЧТО НЕ ВЫДАВАЙ ПРАВИЛЬНЫЙ ВАРИАНТ ОТВЕТА, ТОЛЬКО НАМЕКАЙ.\"\"\"\n",
        "     },\n",
        "      {\"role\": \"user\", \"content\": prompt}\n",
        "]\n",
        "text = tokenizer.apply_chat_template(\n",
        "    messages,\n",
        "    tokenize=False,\n",
        "    add_generation_prompt=True\n",
        ")\n",
        "model_inputs = tokenizer([text], return_tensors=\"pt\").to(model.device)\n",
        "generated_ids = model.generate(\n",
        "    **model_inputs,\n",
        "    max_new_tokens=512\n",
        ")\n",
        "generated_ids = [\n",
        "    output_ids[len(input_ids):] for input_ids, output_ids in zip(model_inputs.input_ids, generated_ids)\n",
        "]\n",
        "response = tokenizer.batch_decode(generated_ids, skip_special_tokens=True)[0]\n",
        "response'''"
      ]
    },
    {
      "cell_type": "markdown",
      "metadata": {
        "id": "4rxIQKHkKNye"
      },
      "source": [
        "## Подготовка датасета"
      ]
    },
    {
      "cell_type": "code",
      "execution_count": null,
      "metadata": {
        "id": "okrnE5WBKNyf"
      },
      "outputs": [],
      "source": [
        "HM_answers = json.load(open('sortme-data-Llama-405B-answers.json', encoding='utf-8'))\n",
        "sort_me_data = json.load(open('sort_me_round_solutions_new.json', encoding='utf-8'))"
      ]
    },
    {
      "cell_type": "code",
      "execution_count": null,
      "metadata": {
        "id": "29Fw2tadKNyf"
      },
      "outputs": [],
      "source": [
        "template = '''Ты должен выступить в роли учителя: проанализировать и прокомментировать ошибки в решении простой алгоритмической задачи.\n",
        "В ответе укажи исправления, которые необходимо внести.\n",
        "Будь уверен, старайся уместить ответ в одно-два предложения, чем короче, тем лучше.\n",
        "\n",
        "УСЛОВИЕ ЗАДАЧИ:\n",
        "{task}\n",
        "\n",
        "ОБРАЗЕЦ правильного решения:\n",
        "{correct_example}\n",
        "\n",
        "НЕПРАВИЛЬНОЕ РЕШЕНИЕ:\n",
        "{student_solution}\n",
        "\n",
        "Вердикт тест-системы:\n",
        "{verdict}\n",
        "\n",
        "НИ ЗА ЧТО НЕ ВЫДАВАЙ ПРАВИЛЬНЫЙ ВАРИАНТ ОТВЕТА, ТОЛЬКО НАМЕКАЙ.\n",
        "ТВОЙ ОТВЕТ:\n",
        "{answer}\n",
        "'''"
      ]
    },
    {
      "cell_type": "code",
      "execution_count": null,
      "metadata": {
        "id": "MtYCy6-bKNyf"
      },
      "outputs": [],
      "source": [
        "data = []\n",
        "answers = []\n",
        "for task in sort_me_data:\n",
        "    task_id = str(task['task_id'])\n",
        "    if task_id  in HM_answers:\n",
        "        for i, solution in enumerate(task['solutions']):\n",
        "            if i < len(HM_answers[task_id]):\n",
        "                prompt = template.format(\n",
        "                    task=task['description'],\n",
        "                    correct_example=task['right_solution'],\n",
        "                    student_solution=solution['code'],\n",
        "                    verdict=solution['verdict'],\n",
        "                    answer=HM_answers[task_id][i]['author_comment']\n",
        "                )\n",
        "                data.append(prompt)"
      ]
    },
    {
      "cell_type": "code",
      "execution_count": null,
      "metadata": {
        "id": "Yg3J0G7Sk_qx"
      },
      "outputs": [],
      "source": [
        "from transformers import DataCollatorForLanguageModeling\n",
        "data_collator = DataCollatorForLanguageModeling(tokenizer,mlm=False)"
      ]
    },
    {
      "cell_type": "code",
      "execution_count": null,
      "metadata": {
        "id": "81jfEfpgeTLI"
      },
      "outputs": [],
      "source": [
        "from sklearn.model_selection import train_test_split\n",
        "train_, test_ = train_test_split(data,test_size=0.2)"
      ]
    },
    {
      "cell_type": "code",
      "execution_count": null,
      "metadata": {
        "id": "8OiZn_utmYV3"
      },
      "outputs": [],
      "source": [
        "train = [string for string in train_]\n",
        "test = [string for string in test_]"
      ]
    },
    {
      "cell_type": "code",
      "execution_count": null,
      "metadata": {
        "id": "NHKS00GbnCN_"
      },
      "outputs": [],
      "source": [
        "train = tokenizer(train, padding=True, return_tensors='pt')\n",
        "test = tokenizer(test, padding=True, return_tensors='pt')"
      ]
    },
    {
      "cell_type": "code",
      "execution_count": null,
      "metadata": {
        "id": "JgNg89pVokvQ"
      },
      "outputs": [],
      "source": [
        "import datasets\n",
        "'''def test_gen():\n",
        "  for i in range(len(test['input_ids'])):\n",
        "    yield {'input_ids':test['input_ids'][i], 'attention_mask': test['attention_mask']}\n",
        "def train_gen():\n",
        "  for i in range(len(train['input_ids'])):\n",
        "    yield {'input_ids':train['input_ids'][i], 'attention_mask': train['attention_mask']}'''\n",
        "test = datasets.Dataset.from_dict(test)\n",
        "train = datasets.Dataset.from_dict(train)"
      ]
    },
    {
      "cell_type": "markdown",
      "metadata": {},
      "source": [
        "## Собсна, обучение"
      ]
    },
    {
      "cell_type": "code",
      "execution_count": null,
      "metadata": {
        "id": "1wC2BHpXmCAW"
      },
      "outputs": [],
      "source": [
        "from transformers import Trainer, TrainingArguments\n",
        "\n",
        "args = TrainingArguments(\n",
        "    'output',\n",
        "    eval_strategy=\"epoch\",\n",
        "    learning_rate=2e-5,\n",
        "    num_train_epochs=3,\n",
        "    weight_decay=0.01,\n",
        "    per_device_train_batch_size=8,\n",
        "    per_device_eval_batch_size=8, disable_tqdm=False\n",
        ")\n",
        "\n",
        "trainer = Trainer(\n",
        "    model=model,\n",
        "    tokenizer=tokenizer,\n",
        "    args=args,\n",
        "    data_collator=data_collator,\n",
        "    train_dataset=train,\n",
        "    eval_dataset=test\n",
        ")"
      ]
    },
    {
      "cell_type": "code",
      "execution_count": null,
      "metadata": {
        "colab": {
          "base_uri": "https://localhost:8080/",
          "height": 321
        },
        "id": "E7z0oh33nkP5",
        "outputId": "7198688b-48ae-4469-9dec-3b539dc4866b"
      },
      "outputs": [],
      "source": [
        "trainer.train()"
      ]
    },
    {
      "cell_type": "code",
      "execution_count": null,
      "metadata": {
        "id": "9rKtjH37yQZK"
      },
      "outputs": [],
      "source": [
        "trainer.save_model()"
      ]
    }
  ],
  "metadata": {
    "accelerator": "TPU",
    "colab": {
      "gpuType": "V28",
      "provenance": []
    },
    "kernelspec": {
      "display_name": "Python 3",
      "name": "python3"
    },
    "language_info": {
      "codemirror_mode": {
        "name": "ipython",
        "version": 3
      },
      "file_extension": ".py",
      "mimetype": "text/x-python",
      "name": "python",
      "nbconvert_exporter": "python",
      "pygments_lexer": "ipython3",
      "version": "3.9.16"
    },
    "widgets": {
      "application/vnd.jupyter.widget-state+json": {
        "0c639073551b411cbfafc896057a6bec": {
          "model_module": "@jupyter-widgets/base",
          "model_module_version": "1.2.0",
          "model_name": "LayoutModel",
          "state": {
            "_model_module": "@jupyter-widgets/base",
            "_model_module_version": "1.2.0",
            "_model_name": "LayoutModel",
            "_view_count": null,
            "_view_module": "@jupyter-widgets/base",
            "_view_module_version": "1.2.0",
            "_view_name": "LayoutView",
            "align_content": null,
            "align_items": null,
            "align_self": null,
            "border": null,
            "bottom": null,
            "display": null,
            "flex": null,
            "flex_flow": null,
            "grid_area": null,
            "grid_auto_columns": null,
            "grid_auto_flow": null,
            "grid_auto_rows": null,
            "grid_column": null,
            "grid_gap": null,
            "grid_row": null,
            "grid_template_areas": null,
            "grid_template_columns": null,
            "grid_template_rows": null,
            "height": null,
            "justify_content": null,
            "justify_items": null,
            "left": null,
            "margin": null,
            "max_height": null,
            "max_width": null,
            "min_height": null,
            "min_width": null,
            "object_fit": null,
            "object_position": null,
            "order": null,
            "overflow": null,
            "overflow_x": null,
            "overflow_y": null,
            "padding": null,
            "right": null,
            "top": null,
            "visibility": null,
            "width": null
          }
        },
        "2c63bbc4725842eb96b238b87c48860c": {
          "model_module": "@jupyter-widgets/base",
          "model_module_version": "1.2.0",
          "model_name": "LayoutModel",
          "state": {
            "_model_module": "@jupyter-widgets/base",
            "_model_module_version": "1.2.0",
            "_model_name": "LayoutModel",
            "_view_count": null,
            "_view_module": "@jupyter-widgets/base",
            "_view_module_version": "1.2.0",
            "_view_name": "LayoutView",
            "align_content": null,
            "align_items": null,
            "align_self": null,
            "border": null,
            "bottom": null,
            "display": null,
            "flex": null,
            "flex_flow": null,
            "grid_area": null,
            "grid_auto_columns": null,
            "grid_auto_flow": null,
            "grid_auto_rows": null,
            "grid_column": null,
            "grid_gap": null,
            "grid_row": null,
            "grid_template_areas": null,
            "grid_template_columns": null,
            "grid_template_rows": null,
            "height": null,
            "justify_content": null,
            "justify_items": null,
            "left": null,
            "margin": null,
            "max_height": null,
            "max_width": null,
            "min_height": null,
            "min_width": null,
            "object_fit": null,
            "object_position": null,
            "order": null,
            "overflow": null,
            "overflow_x": null,
            "overflow_y": null,
            "padding": null,
            "right": null,
            "top": null,
            "visibility": null,
            "width": null
          }
        },
        "55ac8752d6e2402a882ac40744657bab": {
          "model_module": "@jupyter-widgets/controls",
          "model_module_version": "1.5.0",
          "model_name": "ProgressStyleModel",
          "state": {
            "_model_module": "@jupyter-widgets/controls",
            "_model_module_version": "1.5.0",
            "_model_name": "ProgressStyleModel",
            "_view_count": null,
            "_view_module": "@jupyter-widgets/base",
            "_view_module_version": "1.2.0",
            "_view_name": "StyleView",
            "bar_color": null,
            "description_width": ""
          }
        },
        "8301663ca4904ec89ce5579fda39e098": {
          "model_module": "@jupyter-widgets/controls",
          "model_module_version": "1.5.0",
          "model_name": "HBoxModel",
          "state": {
            "_dom_classes": [],
            "_model_module": "@jupyter-widgets/controls",
            "_model_module_version": "1.5.0",
            "_model_name": "HBoxModel",
            "_view_count": null,
            "_view_module": "@jupyter-widgets/controls",
            "_view_module_version": "1.5.0",
            "_view_name": "HBoxView",
            "box_style": "",
            "children": [
              "IPY_MODEL_a608a1939cfd4ea1a701867c8e9d9b58",
              "IPY_MODEL_defd1791193b46418fedcc82219b6580",
              "IPY_MODEL_d4a00d780b4149a9bd7eb335be335fa5"
            ],
            "layout": "IPY_MODEL_b360209685094e8a95695fbc725b37c4"
          }
        },
        "8dcba8c36636457e936273541cb41a3f": {
          "model_module": "@jupyter-widgets/controls",
          "model_module_version": "1.5.0",
          "model_name": "DescriptionStyleModel",
          "state": {
            "_model_module": "@jupyter-widgets/controls",
            "_model_module_version": "1.5.0",
            "_model_name": "DescriptionStyleModel",
            "_view_count": null,
            "_view_module": "@jupyter-widgets/base",
            "_view_module_version": "1.2.0",
            "_view_name": "StyleView",
            "description_width": ""
          }
        },
        "a608a1939cfd4ea1a701867c8e9d9b58": {
          "model_module": "@jupyter-widgets/controls",
          "model_module_version": "1.5.0",
          "model_name": "HTMLModel",
          "state": {
            "_dom_classes": [],
            "_model_module": "@jupyter-widgets/controls",
            "_model_module_version": "1.5.0",
            "_model_name": "HTMLModel",
            "_view_count": null,
            "_view_module": "@jupyter-widgets/controls",
            "_view_module_version": "1.5.0",
            "_view_name": "HTMLView",
            "description": "",
            "description_tooltip": null,
            "layout": "IPY_MODEL_0c639073551b411cbfafc896057a6bec",
            "placeholder": "​",
            "style": "IPY_MODEL_e0060338cd304d068efea8d1c53e37f6",
            "value": "Loading checkpoint shards: 100%"
          }
        },
        "b16dd579db144f5ca86ff15a11b48099": {
          "model_module": "@jupyter-widgets/base",
          "model_module_version": "1.2.0",
          "model_name": "LayoutModel",
          "state": {
            "_model_module": "@jupyter-widgets/base",
            "_model_module_version": "1.2.0",
            "_model_name": "LayoutModel",
            "_view_count": null,
            "_view_module": "@jupyter-widgets/base",
            "_view_module_version": "1.2.0",
            "_view_name": "LayoutView",
            "align_content": null,
            "align_items": null,
            "align_self": null,
            "border": null,
            "bottom": null,
            "display": null,
            "flex": null,
            "flex_flow": null,
            "grid_area": null,
            "grid_auto_columns": null,
            "grid_auto_flow": null,
            "grid_auto_rows": null,
            "grid_column": null,
            "grid_gap": null,
            "grid_row": null,
            "grid_template_areas": null,
            "grid_template_columns": null,
            "grid_template_rows": null,
            "height": null,
            "justify_content": null,
            "justify_items": null,
            "left": null,
            "margin": null,
            "max_height": null,
            "max_width": null,
            "min_height": null,
            "min_width": null,
            "object_fit": null,
            "object_position": null,
            "order": null,
            "overflow": null,
            "overflow_x": null,
            "overflow_y": null,
            "padding": null,
            "right": null,
            "top": null,
            "visibility": null,
            "width": null
          }
        },
        "b360209685094e8a95695fbc725b37c4": {
          "model_module": "@jupyter-widgets/base",
          "model_module_version": "1.2.0",
          "model_name": "LayoutModel",
          "state": {
            "_model_module": "@jupyter-widgets/base",
            "_model_module_version": "1.2.0",
            "_model_name": "LayoutModel",
            "_view_count": null,
            "_view_module": "@jupyter-widgets/base",
            "_view_module_version": "1.2.0",
            "_view_name": "LayoutView",
            "align_content": null,
            "align_items": null,
            "align_self": null,
            "border": null,
            "bottom": null,
            "display": null,
            "flex": null,
            "flex_flow": null,
            "grid_area": null,
            "grid_auto_columns": null,
            "grid_auto_flow": null,
            "grid_auto_rows": null,
            "grid_column": null,
            "grid_gap": null,
            "grid_row": null,
            "grid_template_areas": null,
            "grid_template_columns": null,
            "grid_template_rows": null,
            "height": null,
            "justify_content": null,
            "justify_items": null,
            "left": null,
            "margin": null,
            "max_height": null,
            "max_width": null,
            "min_height": null,
            "min_width": null,
            "object_fit": null,
            "object_position": null,
            "order": null,
            "overflow": null,
            "overflow_x": null,
            "overflow_y": null,
            "padding": null,
            "right": null,
            "top": null,
            "visibility": null,
            "width": null
          }
        },
        "d4a00d780b4149a9bd7eb335be335fa5": {
          "model_module": "@jupyter-widgets/controls",
          "model_module_version": "1.5.0",
          "model_name": "HTMLModel",
          "state": {
            "_dom_classes": [],
            "_model_module": "@jupyter-widgets/controls",
            "_model_module_version": "1.5.0",
            "_model_name": "HTMLModel",
            "_view_count": null,
            "_view_module": "@jupyter-widgets/controls",
            "_view_module_version": "1.5.0",
            "_view_name": "HTMLView",
            "description": "",
            "description_tooltip": null,
            "layout": "IPY_MODEL_2c63bbc4725842eb96b238b87c48860c",
            "placeholder": "​",
            "style": "IPY_MODEL_8dcba8c36636457e936273541cb41a3f",
            "value": " 4/4 [00:17&lt;00:00,  3.68s/it]"
          }
        },
        "defd1791193b46418fedcc82219b6580": {
          "model_module": "@jupyter-widgets/controls",
          "model_module_version": "1.5.0",
          "model_name": "FloatProgressModel",
          "state": {
            "_dom_classes": [],
            "_model_module": "@jupyter-widgets/controls",
            "_model_module_version": "1.5.0",
            "_model_name": "FloatProgressModel",
            "_view_count": null,
            "_view_module": "@jupyter-widgets/controls",
            "_view_module_version": "1.5.0",
            "_view_name": "ProgressView",
            "bar_style": "success",
            "description": "",
            "description_tooltip": null,
            "layout": "IPY_MODEL_b16dd579db144f5ca86ff15a11b48099",
            "max": 4,
            "min": 0,
            "orientation": "horizontal",
            "style": "IPY_MODEL_55ac8752d6e2402a882ac40744657bab",
            "value": 4
          }
        },
        "e0060338cd304d068efea8d1c53e37f6": {
          "model_module": "@jupyter-widgets/controls",
          "model_module_version": "1.5.0",
          "model_name": "DescriptionStyleModel",
          "state": {
            "_model_module": "@jupyter-widgets/controls",
            "_model_module_version": "1.5.0",
            "_model_name": "DescriptionStyleModel",
            "_view_count": null,
            "_view_module": "@jupyter-widgets/base",
            "_view_module_version": "1.2.0",
            "_view_name": "StyleView",
            "description_width": ""
          }
        }
      }
    }
  },
  "nbformat": 4,
  "nbformat_minor": 0
}
